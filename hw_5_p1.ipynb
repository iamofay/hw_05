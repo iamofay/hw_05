{
 "cells": [
  {
   "cell_type": "markdown",
   "id": "2b61005e-25f9-44d4-94c7-7d22bdfbdf09",
   "metadata": {},
   "source": [
    "# Домашнее задание. Част 1. Линейная алгебра"
   ]
  },
  {
   "cell_type": "markdown",
   "id": "3d37732a-432a-4b3b-bbc0-eb700631841c",
   "metadata": {},
   "source": [
    "## 1.Даны матрицы:\n",
    "\n",
    "$$\n",
    "A =\n",
    "\\begin{pmatrix}\n",
    "2 & -4 \\\\\n",
    "3 & 5 \\\\\n",
    "-1 & 0\n",
    "\\end{pmatrix},\n",
    "B =\n",
    "\\begin{pmatrix}\n",
    "1 & 2 & 7 \\\\\n",
    "-3 & -4 & 0 \\\\\n",
    "5 & 2 & 1\n",
    "\\end{pmatrix},\n",
    "C =\n",
    "\\begin{pmatrix}\n",
    "6 & -3 & 9 \\\\\n",
    "4 & -5 & 2 \\\\\n",
    "8 & 1 & 5\n",
    "\\end{pmatrix}.\n",
    "$$\n",
    "\n",
    "## Посчитайте матрицу: $$  D = A^\\top C - 2A^\\top B^\\top  $$ \n",
    "\n",
    "## Приведите полную последовательность вычислений."
   ]
  },
  {
   "cell_type": "markdown",
   "id": "6e7cc2d4-2ff0-4f0b-8095-dc7fd549c360",
   "metadata": {},
   "source": [
    "#### Найдем $ A^\\top $:\n",
    "\n",
    "$ A^\\top = \\begin{pmatrix} 2 & 3 & -1 \\\\ -4 & 5 & 0 \\end{pmatrix} $ \n",
    "\n",
    "#### Найдем $ B^\\top $:\n",
    "\n",
    "$ B^\\top = \\begin{pmatrix} 1 & -3 & 5 \\\\ 2 & -4 & 2 \\\\ 7 & 0 & 1 \\end{pmatrix} $\n",
    "\n",
    "#### Найдем $ 2 \\cdot A^\\top \\cdot B^\\top $:\n",
    "\n",
    "$ 2 \\cdot A^\\top \\cdot B^\\top = 2 \\cdot\n",
    "\\begin{pmatrix}\n",
    "2 \\cdot 1 + 3 \\cdot 2 - 1 \\cdot 7 & 2 \\cdot -3 + 3 \\cdot - 4 - 1 \\cdot 0 & 2 \\cdot 5 + 3 \\cdot 2 - 1 \\cdot 1 \\\\\n",
    "- 4 \\cdot 1 + 5 \\cdot 2 + 0 \\cdot 7 & - 4 \\cdot - 3 + 5 \\cdot - 4 + 0 \\cdot 0 & - 4 \\cdot 5 + 5 \\cdot 2 + 0 \\cdot 1 \n",
    "\\end{pmatrix} =\n",
    "\\begin{pmatrix}\n",
    "2 & - 36 & 30 \\\\\n",
    "12 & - 16 & - 20 \n",
    "\\end{pmatrix}\n",
    "$\n",
    "\n",
    "#### Найдем $ A^\\top \\cdot C $:\n",
    "\n",
    "$ A^\\top \\cdot C = \n",
    "\\begin{pmatrix}\n",
    "2 \\cdot 6 + 3 \\cdot 4 - 1 \\cdot 8 & 2 \\cdot -3 + 3 \\cdot - 5 - 1 \\cdot 1 & 2 \\cdot 9 + 3 \\cdot 2 - 1 \\cdot 5 \\\\\n",
    "- 4 \\cdot 6 + 5 \\cdot 4 + 0 \\cdot 8 & - 4 \\cdot - 3 + 5 \\cdot - 5 + 0 \\cdot 1 & - 4 \\cdot 9 + 5 \\cdot 2 + 0 \\cdot 5 \n",
    "\\end{pmatrix} =\n",
    "\\begin{pmatrix}\n",
    "16 & - 22 & - 19 \\\\\n",
    "- 4 & - 13 & - 26 \n",
    "\\end{pmatrix}\n",
    "$\n",
    "\n",
    "#### Найдем $ D $:\n",
    "\n",
    "$ D = \n",
    "\\begin{pmatrix}\n",
    "2 & - 36 & 30 \\\\\n",
    "12 & - 16 & - 20 \n",
    "\\end{pmatrix} +\n",
    "\\begin{pmatrix}\n",
    "16 & - 22 & - 19 \\\\\n",
    "- 4 & - 13 & - 26 \n",
    "\\end{pmatrix} =\n",
    "\\begin{pmatrix}\n",
    "- 14 & 14 & 11 \\\\\n",
    "- 16 & 3 & -6 \n",
    "\\end{pmatrix}\n",
    "$"
   ]
  },
  {
   "cell_type": "markdown",
   "id": "3030030d-9f11-4cab-b4e8-e22ef02605dd",
   "metadata": {},
   "source": [
    "## 1. Ответ:\n",
    "\n",
    "## $$ D = \n",
    "\\begin{pmatrix}\n",
    "- 14 & 14 & 11 \\\\\n",
    "- 16 & 3 & -6 \n",
    "\\end{pmatrix}\n",
    "$$"
   ]
  },
  {
   "cell_type": "markdown",
   "id": "3aed96bd-5b21-4a70-8088-8f2df15fdc5f",
   "metadata": {},
   "source": [
    "## 2. Дано выражение:\n",
    "\n",
    "## $$\n",
    "3 \\cdot \\begin{pmatrix}\n",
    "x & 2 & 3 \\\\\n",
    "-1 & y & 4\n",
    "\\end{pmatrix}\n",
    "+ 2 \\cdot \\begin{pmatrix}\n",
    "1 & 2 & -5 \\\\\n",
    "2 & -6 & z\n",
    "\\end{pmatrix}\n",
    "=\n",
    "\\begin{pmatrix}\n",
    "8 & v & -1 \\\\\n",
    "1 & 6 & 4\n",
    "\\end{pmatrix}.\n",
    "$$\n",
    "## Найдите значения \\( x \\), \\( y \\), \\( z \\) и \\( v \\), при которых выражение верно."
   ]
  },
  {
   "cell_type": "markdown",
   "id": "a000f97a-62f0-4f26-853d-fb3b2cde10f1",
   "metadata": {},
   "source": [
    "#### Найдем решение:\n",
    "\n",
    "$ 3 \\cdot \\begin{pmatrix}\n",
    "x & 2 & 3 \\\\\n",
    "-1 & y & 4 \\end{pmatrix} + 2\n",
    "\\cdot \\begin{pmatrix}\n",
    "1 & 2 & -5 \\\\\n",
    "2 & -6 & z \\end{pmatrix} =\n",
    "\\begin{pmatrix}\n",
    "8 & v & -1 \\\\\n",
    "1 & 6 & 4\n",
    "\\end{pmatrix}\n",
    "$\n",
    "  \n",
    "$ \\begin{pmatrix}\n",
    "3x & 3 \\cdot 2 & 3 \\cdot 3 \\\\\n",
    "3 \\cdot (-1) & 3y & 3 \\cdot 4\n",
    "\\end{pmatrix} +\n",
    "\\begin{pmatrix}\n",
    "2 \\cdot 1 & 2 \\cdot 2 & 2 \\cdot (-5) \\\\\n",
    "2 \\cdot 2 & 2 \\cdot (-6) & 2z\n",
    "\\end{pmatrix} =\n",
    "\\begin{pmatrix}\n",
    "8 & v & -1 \\\\\n",
    "1 & 6 & 4\n",
    "\\end{pmatrix}\n",
    "$\n",
    "\n",
    "$ \\begin{pmatrix}\n",
    "3x+2 & 6+4 & 9+(-10) \\\\\n",
    "-3+4 & 3y+(-12) & 12+2z\n",
    "\\end{pmatrix} =\n",
    "\\begin{pmatrix}\n",
    "8 & v & -1 \\\\\n",
    "1 & 6 & 4\n",
    "\\end{pmatrix}\n",
    "$\n",
    "  \n",
    "$ \\begin{pmatrix}\n",
    "3x+2 & 10 & -1 \\\\\n",
    "1 & 3y-12 & 12+2z\n",
    "\\end{pmatrix} =\n",
    "\\begin{pmatrix}\n",
    "8 & v & -1 \\\\\n",
    "1 & 6 & 4\n",
    "\\end{pmatrix}\n",
    "$\n",
    "\n",
    "#### Решим систему линейных уравнений и найдем значения\n",
    "\n",
    "$ 3x+2 = 8 $  \n",
    "$ x = (8-2)/3 = 2 $\n",
    "\n",
    "$ 3y-12 = 6 $  \n",
    "$ y = (6+12)/3 = 6 $\n",
    "\n",
    "$ 12+2z = 4 $  \n",
    "$ z = (4-12)/2 = -4 $\n",
    "\n",
    "$ v = 10 $"
   ]
  },
  {
   "cell_type": "markdown",
   "id": "4a25aeec-eea3-4287-a195-ac5dcf257584",
   "metadata": {},
   "source": [
    "## 2. Ответ:\n",
    "\n",
    "## $ x = 2, y = 6, z = -4, v = 10 $"
   ]
  },
  {
   "cell_type": "markdown",
   "id": "2368b45d-0c49-4368-9bcc-e866a75dad9e",
   "metadata": {},
   "source": [
    "## 3. Укажите те значения параметров \\( p \\) и \\( q \\), при которых ранг матрицы $ A = \\begin{pmatrix}\n",
    "1 & 2 & 3 \\\\\n",
    "3 & 6 & p \\\\\n",
    "5 & 10 & q\n",
    "\\end{pmatrix}$ равен единице.  "
   ]
  },
  {
   "cell_type": "markdown",
   "id": "70d4d028-1e1d-4ee9-b9e2-b7c82a83f8a6",
   "metadata": {},
   "source": [
    "#### Приведем матрицу к ступенчатому виду, в условии ранг матрицы равен 1:\n",
    "\n",
    "$ A = \\begin{pmatrix}\n",
    "1 & 2 & 3 \\\\\n",
    "3 & 6 & p \\\\\n",
    "5 & 10 & q\n",
    "\\end{pmatrix} $\n",
    "\n",
    "#### Вычтем из 2ой строки 2 первых строки\n",
    "#### Вычтем из 3ей строки 5 первых строк\n",
    "\n",
    "$ A = \\begin{pmatrix}\n",
    "1 & 2 & 3 \\\\\n",
    "0 & 0 & p - 9 \\\\\n",
    "0 & 0 & q - 15\n",
    "\\end{pmatrix} $\n",
    "\n",
    "#### Решим систему уравнений:\n",
    "\n",
    "$$\\begin{equation*}\n",
    " \\begin{cases}\n",
    "    p - 9 = 0 , \\\\\n",
    "    q - 15 = 0.\n",
    " \\end{cases}\n",
    "\\end{equation*} \\Rightarrow p = 9, q = 15\n",
    "$$"
   ]
  },
  {
   "cell_type": "markdown",
   "id": "872c2a6b-bc04-4cc5-9221-bb0a4b540525",
   "metadata": {},
   "source": [
    "## 3. Ответ:\n",
    "## $ p = 9, q = 15 $"
   ]
  },
  {
   "cell_type": "markdown",
   "id": "a59bbe21-369f-4fa7-9315-b80a2c0d3b7f",
   "metadata": {},
   "source": [
    "## 4. Относительно канонического (стандартного) базиса в \\($ \\mathbb{R}^2 \\ $) даны три вектора $ a_1 = (2, -5)^\\top ,$ $  a_2 = (-1, 3)^\\top $, и $ x = (1, -4)^\\top $.   \n",
    "## Примите векторы $ a_1, a_2 $ за новый базис $ B $, предварительно проверив, что они линейно независимы. \n",
    "\n",
    "## (a) Найдите координаты $ [x]_B $ вектора $ x $ в новом базисе.\n",
    "\n",
    "## (b) Предположим, что координаты вектора $ y $ в базисе $ B $ заданы $ [y]_B = (1, 1)^\\top $.  \n",
    "## Найдите координаты вектора $ y $ в стандартном базисе."
   ]
  },
  {
   "cell_type": "markdown",
   "id": "27dc6eb2-cafb-4552-97f1-50b4b7d422bd",
   "metadata": {},
   "source": [
    "\n",
    "#### Найдем детерминант матрицы, если дана матрица $ A = \\begin{pmatrix} a & b \\\\ c & d \\end{pmatrix} $, то её детерминант $ \\text{det}(A) $ вычисляется по следующей формуле:\n",
    "$\n",
    "\\text{det}(A) = ad - bc\n",
    "$\n",
    "\n",
    "#### Проверим, что вектора линейно независимы:  \n",
    "  \n",
    "$ a_1 = (2, -5)^\\top ,$ $  a_2 = (-1, 3)^\\top $  \n",
    "  \n",
    "#### Составим матрицу:  \n",
    "  \n",
    "$\\begin{pmatrix}\n",
    "2 & -5 \\\\\n",
    "-1 & 3\n",
    "\\end{pmatrix}$  \n",
    "  \n",
    "#### Вычислим детерминант:  \n",
    "  \n",
    "$ det = a \\cdot d - b \\cdot c = 2 \\cdot 3 - (-5) \\cdot (-1) = 1 $   \n",
    "\n",
    "#### Детерминант ненулевой $\\Rightarrow$ векторы линейно независимы.  \n",
    "  \n",
    "#### Примем векторы $ a_1, a_2 $ за новый базис $ B: $  \n",
    "  \n",
    "$ B = \\begin{pmatrix}\n",
    "2 & -1 \\\\\n",
    "-5 & 3\n",
    "\\end{pmatrix} $  \n",
    "\n",
    "#### Формула для нахождения обратной матрицы:  \n",
    "\n",
    "\n",
    "#### Если дана матрица $ A = \\begin{pmatrix} a & b \\\\ c & d \\end{pmatrix} $, то ее обратная матрица $ A^{-1} $ вычисляется по следующей формуле:\n",
    "\n",
    "$\n",
    "A^{-1} = \\frac{1}{a \\cdot d - b \\cdot c} \\cdot \\begin{pmatrix} d & -b \\\\ -c & a \\end{pmatrix}\n",
    "$\n",
    " или \n",
    "$\n",
    "A^{-1} = \\frac{1}{det} \\cdot \\begin{pmatrix} d & -b \\\\ -c & a \\end{pmatrix}\n",
    "$  \n",
    "\n",
    "#### Переведем вектора в другой базис с помощью формул:  \n",
    "\n",
    "$ [x] = B \\cdot [x]_B $,  \n",
    "  \n",
    "$ [x]_B = B^{-1} \\cdot [x] $\n",
    "\n",
    "## (a)  \n",
    "\n",
    "$ B^{-1} = \\frac{1}{1} \\cdot \n",
    "\\begin{pmatrix}\n",
    "3 & 1 \\\\\n",
    "5 & 2\n",
    "\\end{pmatrix} = \n",
    "\\begin{pmatrix}\n",
    "3 & 1 \\\\\n",
    "5 & 2\n",
    "\\end{pmatrix}\n",
    "$  \n",
    "  \n",
    "$ [x]_B = B^{-1} \\cdot [x] = \n",
    "\\begin{pmatrix}\n",
    "3 & 1 \\\\\n",
    "5 & 2\n",
    "\\end{pmatrix}\n",
    "\\cdot\n",
    "\\begin{pmatrix}\n",
    "1 \\\\\n",
    "-4\n",
    "\\end{pmatrix} =\n",
    "\\begin{pmatrix}\n",
    "3 \\cdot 1 + 1 \\cdot (-4)\\\\\n",
    "5 \\cdot 1 + 2 \\cdot (-4)\n",
    "\\end{pmatrix} = \n",
    "\\begin{pmatrix}\n",
    "3 - 4 \\\\\n",
    "5 - 8\n",
    "\\end{pmatrix} = \n",
    "\\begin{pmatrix}\n",
    "-1 \\\\\n",
    "-3\n",
    "\\end{pmatrix}\n",
    "$  \n",
    "\n",
    "## (b)  \n",
    "\n",
    "$ [y] = B \\cdot [y]_B = \n",
    "\\begin{pmatrix}\n",
    "2 & -1 \\\\\n",
    "-5 & 3\n",
    "\\end{pmatrix}\n",
    "\\cdot\n",
    "\\begin{pmatrix}\n",
    "1 \\\\\n",
    "1\n",
    "\\end{pmatrix} =\n",
    "\\begin{pmatrix}\n",
    "2 \\cdot 1 + (-1) \\cdot 1\\\\\n",
    "(-5) \\cdot 1 + 3 \\cdot 1\n",
    "\\end{pmatrix} = \n",
    "\\begin{pmatrix}\n",
    "2 - 1 \\\\\n",
    "-5 + 3\n",
    "\\end{pmatrix} = \n",
    "\\begin{pmatrix}\n",
    "1 \\\\\n",
    "-2\n",
    "\\end{pmatrix} \n",
    "$  "
   ]
  },
  {
   "cell_type": "markdown",
   "id": "641cd732-adcc-4a4c-a0ba-d2c27f376fda",
   "metadata": {},
   "source": [
    "## 4. Ответ\n",
    "\n",
    "## (a) $ [x]_B = \n",
    "\\begin{pmatrix}\n",
    "-1 \\\\\n",
    "-3\n",
    "\\end{pmatrix}\n",
    "$  \n",
    "## (b) $ [y] = \\begin{pmatrix}\n",
    "1 \\\\\n",
    "-2\n",
    "\\end{pmatrix} \n",
    "$"
   ]
  },
  {
   "cell_type": "markdown",
   "id": "ad60fa82-a42b-4c70-9025-d36b961e7ea4",
   "metadata": {},
   "source": [
    "## 5. Исследовательское задание: малоранговая аппроксимация матрицы. "
   ]
  },
  {
   "cell_type": "code",
   "execution_count": 1,
   "id": "5a4e8238-68c8-423b-b35d-450c8069d25a",
   "metadata": {},
   "outputs": [],
   "source": [
    "import numpy as np\n",
    "import matplotlib as mpl\n",
    "import matplotlib.pyplot as plt"
   ]
  },
  {
   "cell_type": "code",
   "execution_count": 2,
   "id": "fd22a4bf-d0a1-4833-96d8-3843db910bc8",
   "metadata": {},
   "outputs": [
    {
     "name": "stdout",
     "output_type": "stream",
     "text": [
      "[[-10  -1 -10 ...   6   6   9]\n",
      " [  7   6  -6 ...   8   8  -3]\n",
      " [  8  -1   1 ...  -9   7  -4]\n",
      " ...\n",
      " [ -4  -3   1 ...   2  -7  -8]\n",
      " [ -7   9  -8 ...   3   9   9]\n",
      " [  8   6 -10 ...   7  -8   7]]\n"
     ]
    }
   ],
   "source": [
    "# Сгенерируйте случайную квадратную матрицу A ∈ R n×n, n ≥ 100\n",
    "h = np.random.randint(-10, 10, (100, 100))\n",
    "print(h)"
   ]
  },
  {
   "cell_type": "code",
   "execution_count": 3,
   "id": "d03a5364-3560-4131-8e6c-f8d12d1abae0",
   "metadata": {},
   "outputs": [
    {
     "name": "stdout",
     "output_type": "stream",
     "text": [
      "(100, 100) (100,) (100, 100)\n"
     ]
    }
   ],
   "source": [
    "# С помощью функции numpy.linalg.svd выполните сингулярное разложение этой матрицы, и получите три матрицы: U, S, V⊤\n",
    "U, S, Vh = np.linalg.svd(h, full_matrices=True)\n",
    "print(U.shape, S.shape, Vh.shape)"
   ]
  },
  {
   "cell_type": "code",
   "execution_count": 4,
   "id": "6fc8a98b-1400-465a-b34c-f6b50400990a",
   "metadata": {},
   "outputs": [
    {
     "name": "stdout",
     "output_type": "stream",
     "text": [
      "[  2   3   4   5   6   7   8   9  10  11  12  13  14  15  16  17  18  19\n",
      "  20  21  22  23  24  25  26  27  28  29  30  31  32  33  34  35  36  37\n",
      "  38  39  40  41  42  43  44  45  46  47  48  49  50  51  52  53  54  55\n",
      "  56  57  58  59  60  61  62  63  64  65  66  67  68  69  70  71  72  73\n",
      "  74  75  76  77  78  79  80  81  82  83  84  85  86  87  88  89  90  91\n",
      "  92  93  94  95  96  97  98  99 100]\n"
     ]
    }
   ],
   "source": [
    "# Выполняйте аппроксимацию матрицы A с рангом r, меняя его значение, например, от 2 до n\n",
    "r = np.arange(2,101,1)\n",
    "print(r)\n",
    "d = []"
   ]
  },
  {
   "cell_type": "code",
   "execution_count": 5,
   "id": "0ecdaca3-aa81-4872-9aa0-baae8eaa5d7f",
   "metadata": {
    "scrolled": true
   },
   "outputs": [
    {
     "name": "stdout",
     "output_type": "stream",
     "text": [
      "[np.float64(555.248069092689), np.float64(545.4055016375983), np.float64(535.7393765075261), np.float64(526.1283198569392), np.float64(516.5399887190332), np.float64(507.4568607693683), np.float64(498.4432766632418), np.float64(489.60197293057973), np.float64(480.78970807060057), np.float64(471.9198593442307), np.float64(463.28089970994193), np.float64(454.70812752095355), np.float64(446.06337479077365), np.float64(437.4837151256467), np.float64(429.0446539573816), np.float64(420.74801779631883), np.float64(412.5164011612344), np.float64(404.2558712527382), np.float64(396.03288205173993), np.float64(387.8587119182737), np.float64(379.8637892417047), np.float64(372.1053371879109), np.float64(364.4782489557774), np.float64(356.740156378441), np.float64(349.2229548467345), np.float64(341.8451086592929), np.float64(334.63381825586237), np.float64(327.4450192064639), np.float64(320.14777944092106), np.float64(312.9864877126286), np.float64(306.02440068215077), np.float64(299.02979871968444), np.float64(292.03057230135994), np.float64(285.1334924404485), np.float64(278.2252451688434), np.float64(271.26561673985265), np.float64(264.53735448501885), np.float64(257.91554478844176), np.float64(251.34996590539012), np.float64(244.95299598307116), np.float64(238.50972023270228), np.float64(232.29476893591868), np.float64(225.95156503178498), np.float64(219.80282287844588), np.float64(213.56130396443461), np.float64(207.37210280428488), np.float64(201.10214279050587), np.float64(195.23086773008268), np.float64(189.3183005742802), np.float64(183.7888903024293), np.float64(178.14104797335048), np.float64(172.4598713495652), np.float64(166.8611496746635), np.float64(161.1547056654246), np.float64(155.60604198217047), np.float64(150.33869292659804), np.float64(145.03174881661297), np.float64(139.9719483494274), np.float64(134.77367785478128), np.float64(129.45079510122943), np.float64(124.28374489165506), np.float64(119.26727698708451), np.float64(114.3406559702535), np.float64(109.36351068295325), np.float64(104.37871104212252), np.float64(99.70634823087845), np.float64(95.00987962724233), np.float64(90.36062816761553), np.float64(85.81371450342824), np.float64(81.13595423167892), np.float64(76.88350130641626), np.float64(72.62424265149868), np.float64(68.2284179745498), np.float64(64.19209973708854), np.float64(60.52766571018628), np.float64(56.725285422068865), np.float64(52.7876865672867), np.float64(48.82102553378446), np.float64(44.85633228884397), np.float64(40.93218278620161), np.float64(37.394248448972505), np.float64(33.97770007841732), np.float64(30.479754722906925), np.float64(27.782450873429536), np.float64(24.99418231461795), np.float64(22.394532561244876), np.float64(19.829788275397934), np.float64(17.50292929547337), np.float64(15.176693708649582), np.float64(12.972233371138035), np.float64(10.869557412245939), np.float64(8.908040007264507), np.float64(6.556052182565346), np.float64(4.210840355721543), np.float64(2.8848767991440267), np.float64(2.1484100196855653), np.float64(1.4219120078498022), np.float64(0.712325655067322), np.float64(1.2965699894558471e-12)]\n"
     ]
    }
   ],
   "source": [
    "# и каждый раз считайте ошибку апроксимации (как восстановленная матрица отличается от исходной)\n",
    "for num in r:\n",
    "    ru = num\n",
    "    u1 = U[:, :ru]\n",
    "    s1 = S[:ru]\n",
    "    v1 = Vh[:ru, :] \n",
    "    fappr = u1.dot(np.diag(s1).dot(v1))\n",
    "    d.append(np.linalg.norm(fappr - h, 'fro'))\n",
    "print(d)"
   ]
  },
  {
   "cell_type": "code",
   "execution_count": 6,
   "id": "c4e4a3a8-af5f-4b08-9f3e-8657932ff0e1",
   "metadata": {},
   "outputs": [
    {
     "data": {
      "image/png": "[encoded data removed]",
      "text/plain": [
       "<Figure size 640x480 with 1 Axes>"
      ]
     },
     "metadata": {},
     "output_type": "display_data"
    }
   ],
   "source": [
    "# Используя библиотеку matplotlib, постройте график зависимости ошибки аппроксимации матрицы от ранга r.\n",
    "plt.plot(r, d)\n",
    "plt.show()"
   ]
  }
 ],
 "metadata": {
  "kernelspec": {
   "display_name": "Python 3 (ipykernel)",
   "language": "python",
   "name": "python3"
  },
  "language_info": {
   "codemirror_mode": {
    "name": "ipython",
    "version": 3
   },
   "file_extension": ".py",
   "mimetype": "text/x-python",
   "name": "python",
   "nbconvert_exporter": "python",
   "pygments_lexer": "ipython3",
   "version": "3.10.11"
  }
 },
 "nbformat": 4,
 "nbformat_minor": 5
}
