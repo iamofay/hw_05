{
 "cells": [
  {
   "cell_type": "markdown",
   "id": "6fb4c8d5-6cbf-457d-8eff-22ab26a44bbc",
   "metadata": {},
   "source": [
    "# Домашнее задание. Част 2. Нач. матанализа и оптимизация"
   ]
  },
  {
   "cell_type": "markdown",
   "id": "ed6908ba-3b56-4e76-ac0c-9fc8cc27fb56",
   "metadata": {},
   "source": [
    "## 1. Посчитайте градиент следующей функции:\n",
    "\n",
    "## $ f(x) = x_1^3 - 2x_1x_2 + x_2^2 - 3x_1 - 2x_2, \\quad x \\in \\mathbb{R}^2 $\n",
    "\n",
    "## Найдите критические точки $ x_c $, такие что $ \\nabla f(x_c) = 0 $."
   ]
  },
  {
   "cell_type": "markdown",
   "id": "8c90c33e-de01-4520-adfd-0b317322020c",
   "metadata": {},
   "source": [
    "### Найдем градиент функции:\n",
    "\n",
    "$  \\mathnormal grad(f(x)) = \\mathnormal \\nabla f(x) = (\\frac{\\partial f}{\\partial x_1}, \\frac{\\partial f}{\\partial x_2}) $\n",
    "\n",
    "#### Возьмем частные производные:\n",
    "\n",
    "$ \\frac{\\partial f}{\\partial x_1} = 3x_1^2 - 2x_2 - 3  $\n",
    "\n",
    "$ \\frac{\\partial f}{\\partial x_2} =  - 2x_1 + 2x_2 - 2 $\n",
    "\n",
    "#### Градиент функции:\n",
    "\n",
    "$  \\mathnormal grad(f(x)) = \\mathnormal \\nabla f(x) = (\\frac{\\partial f}{\\partial x_1}, \\frac{\\partial f}{\\partial x_2}) = (( 3x_1^2 - 2x_2 - 3),  (- 2x_1 + 2x_2 - 2)) $\n",
    "\n"
   ]
  },
  {
   "cell_type": "markdown",
   "id": "4f95c0bc-5b41-477d-8ddc-94298953b852",
   "metadata": {},
   "source": [
    "### Найдем критические точки:\n",
    "\n"
   ]
  },
  {
   "cell_type": "markdown",
   "id": "1d0ab27e-bbc5-4ab1-bbfb-ae954729efd4",
   "metadata": {},
   "source": [
    "$ grad(f(x)) = \\mathnormal \\nabla f(x_c) = (\\frac{\\partial f}{\\partial x_1}, \\frac{\\partial f}{\\partial x_2}) = (( 3x_1^2 - 2x_2 - 3),  (- 2x_1 + 2x_2 - 2)) = (0, 0) $\n",
    "\n",
    "#### Составим систему уравнений:\n",
    "\n",
    "\\begin{equation*}\n",
    " \\begin{cases}\n",
    "   3x_1^2 - 2x_2 - 3 = 0, \n",
    "   \\\\\n",
    "   - 2x_1 + 2x_2 - 2 = 0.\n",
    " \\end{cases}\n",
    "\\end{equation*}\n",
    "\n",
    "#### Из второго уровнения выразим $x_1$ через $x_2$:  \n",
    "$ - 2x_1 + 2x_2 - 2 = 0 $  \n",
    "$ x_1 = x_2 - 1 $  \n",
    "\n",
    "#### Подставим значение в первое уравнение:  \n",
    "$ 3(x_2 - 1)^2 - 2x_2 - 3 = 0 $  \n",
    "$ 3(x_2^2 - 2x_2 +1) -2x_2 - 3 = 0 $  \n",
    "$ 3x_2^2 - 8x_2 = 0 $  \n",
    "\n",
    "#### Решим квадратное уравнение:\n",
    "\n",
    "$ 3x_2^2 - 8x_2 = 0 \\Rightarrow x_{2(1)} = 0, x_{2(2)} = 8/3 $ \n",
    "\n",
    "#### Подставим значения во второе уравнение:\n",
    "\n",
    "$ x_{2(1)} = 0, x_{2(2)} = 8/3 $\n",
    "\n",
    "$ x_1 = x_2 - 1 \\Rightarrow x_{1(1)} = -1, x_{1(2)} = 5/3 $ \n",
    "\n"
   ]
  },
  {
   "cell_type": "markdown",
   "id": "fdba462c-a3ee-42ee-9990-b65345b42a55",
   "metadata": {},
   "source": [
    "## 1.Ответ:\n",
    "\n",
    "#### Градиент функции:\n",
    "\n",
    "$  \\mathnormal grad(f(x)) = \\mathnormal \\nabla f(x) = (\\frac{\\partial f}{\\partial x_1}, \\frac{\\partial f}{\\partial x_2}) = (( 3x_1^2 - 2x_2 - 3),  (- 2x_1 + 2x_2 - 2)) $\n",
    "\n",
    "#### Критические точки:\n",
    "\n",
    "$ ( \\frac{ 5 }{ 3 } , \\frac{ 8 }{ 3 } ) $ и $ ( -1 , 0 ) $  "
   ]
  },
  {
   "cell_type": "markdown",
   "id": "aa5b9663-8a39-456c-9dba-133c0cdb1d7d",
   "metadata": {},
   "source": [
    "## 2. Проверьте, что функция $ f = \\ln(\\sqrt{x_1} + \\sqrt{x_2}) $ удовлетворяет уравнению:\n",
    "\n",
    "## $ x_1 \\frac{\\partial f}{\\partial x_1} + x_2 \\frac{\\partial f}{\\partial x_2} = \\frac{1}{2}. $ "
   ]
  },
  {
   "cell_type": "markdown",
   "id": "0ffe38f1-5944-44e3-8dab-e0f9ce7a6f68",
   "metadata": {},
   "source": [
    "### Производная натурального логарифма сложной функции: \n",
    "\n",
    "$ \\ln g(x) = \\frac{1}{g(x)} \\cdot g'(x) $  \n",
    "\n",
    "### Возьмем частные производные от функции:\n",
    "\n",
    "$ \\frac{\\partial f}{\\partial x_1} = \\frac{1}{(\\sqrt{x_1} + \\sqrt{x_2})} \\cdot \\frac{1}{2}(\\sqrt{x_1})^{-1} =\n",
    "\\frac{1}{2 \\sqrt{x_1} (\\sqrt{x_1} + \\sqrt{x_2})}$  \n",
    "\n",
    "$ \\frac{\\partial f}{\\partial x_2} = \\frac{1}{(\\sqrt{x_1} + \\sqrt{x_2})} \\cdot \\frac{1}{2}(\\sqrt{x_2})^{-1} =\n",
    "\\frac{1}{2 \\sqrt{x_2} (\\sqrt{x_1} + \\sqrt{x_2})}$\n",
    "\n",
    "### Подставим результат:\n",
    "\n",
    "$ x_1 \\frac{\\partial f}{\\partial x_1} + x_2 \\frac{\\partial f}{\\partial x_2} =\n",
    "x_1 \\cdot \\frac{1}{2 \\sqrt{x_1} (\\sqrt{x_1} + \\sqrt{x_2})} + x_2 \\cdot \\frac{1}{2 \\sqrt{x_1} (\\sqrt{x_1} + \\sqrt{x_2})} = $  \n",
    "\n",
    "$ = \\frac{x_1}{2 \\sqrt{x_1} (\\sqrt{x_1} + \\sqrt{x_2})} + \\frac{x_2}{2 \\sqrt{x_2} (\\sqrt{x_1} + \\sqrt{x_2})} = \\frac{ \\sqrt{x_1} }{2 (\\sqrt{x_1} + \\sqrt{x_2})} + \\frac{\\sqrt{x_2}}{2 (\\sqrt{x_1} + \\sqrt{x_2})} =\n",
    "\\frac{ \\sqrt{x_1} + \\sqrt{x_2} }{2 (\\sqrt{x_1} + \\sqrt{x_2})} = \\frac{1}{2}$  "
   ]
  },
  {
   "cell_type": "markdown",
   "id": "7fd3c7cf-3a6c-4b03-9d70-645672d99a2b",
   "metadata": {},
   "source": [
    "## 2. Ответ:\n",
    "\n",
    "#### Функция $ f = \\ln(\\sqrt{x_1} + \\sqrt{x_2}) $ удовлетворяет уравнению: $ x_1 \\frac{\\partial f}{\\partial x_1} + x_2 \\frac{\\partial f}{\\partial x_2} = \\frac{1}{2}. $ "
   ]
  },
  {
   "cell_type": "markdown",
   "id": "3389b6a7-a39f-42d2-8ce6-c4b3a82df919",
   "metadata": {},
   "source": [
    "## 3. Предположим, задана функция $ f : \\mathbb{R}^3 \\to \\mathbb{R}^2 $:  \n",
    "\n",
    "## $ f(x, y, z) = (x + y + z, xyz)^\\top. $ \n",
    "\n",
    "## Найдите матрицу Якоби $ J_f $ функции $ f $, и её численное значение в точке $ v = (1, 2, 3)^\\top $."
   ]
  },
  {
   "cell_type": "markdown",
   "id": "eec6cb9e-e2b7-4252-847a-66adfced6eec",
   "metadata": {},
   "source": [
    "#### Для системы функций $ f_1, \\ldots, f_n $ и переменных $ x_1, \\ldots, x_m $ матрица Якоби $ J $ определяется как:\n",
    "\n",
    "$$\n",
    "J =\n",
    "\\begin{pmatrix}\n",
    "\\frac{\\partial f_1}{\\partial x_1} & \\frac{\\partial f_1}{\\partial x_2} & \\cdots & \\frac{\\partial f_1}{\\partial x_m} \\\\\n",
    "\\frac{\\partial f_2}{\\partial x_1} & \\frac{\\partial f_2}{\\partial x_2} & \\cdots & \\frac{\\partial f_2}{\\partial x_m} \\\\\n",
    "\\vdots & \\vdots & \\ddots & \\vdots \\\\\n",
    "\\frac{\\partial f_n}{\\partial x_1} & \\frac{\\partial f_n}{\\partial x_2} & \\cdots & \\frac{\\partial f_n}{\\partial x_m}\n",
    "\\end{pmatrix}\n",
    "$$\n",
    "\n",
    "#### ,где элемент $ (i, j) $ матрицы Якоби является частной производной функции $ f_i $ по переменной $ x_j $.\n",
    "\n",
    "#### В нашем случае матрица Якоби:\n",
    "\n",
    "$\n",
    "J = \\begin{pmatrix}\n",
    "\\frac{\\partial f_1}{\\partial x} & \\frac{\\partial f_1}{\\partial y} & \\frac{\\partial f_1}{\\partial z} \\\\\n",
    "\\frac{\\partial f_2}{\\partial x} & \\frac{\\partial f_2}{\\partial y} & \\frac{\\partial f_2}{\\partial z}\n",
    "\\end{pmatrix} ^\\top =\n",
    "\\begin{pmatrix}\n",
    "1 & 1 & 1 \\\\\n",
    "yz & xz & xy\n",
    "\\end{pmatrix} ^\\top =\n",
    "\\begin{pmatrix}\n",
    "1 & yz \\\\\n",
    "1 & xz \\\\\n",
    "1 & xy\n",
    "\\end{pmatrix}\n",
    "$  \n",
    "\n",
    "#### Найдем значение в точке $ v = (1, 2, 3)^\\top $: \n",
    "$\\begin{pmatrix}\n",
    "1 & yz \\\\\n",
    "1 & xz \\\\\n",
    "1 & xy\n",
    "\\end{pmatrix} = \n",
    "\\begin{pmatrix}\n",
    "1 & 2 \\cdot 3 \\\\\n",
    "1 & 1 \\cdot 3 \\\\\n",
    "1 & 1 \\cdot 2\n",
    "\\end{pmatrix} =\n",
    "\\begin{pmatrix}\n",
    "1 & 6 \\\\\n",
    "1 & 3 \\\\\n",
    "1 & 2\n",
    "\\end{pmatrix}\n",
    "$"
   ]
  },
  {
   "cell_type": "markdown",
   "id": "3420d586-6509-4bc9-a5cf-b4353f2b09f9",
   "metadata": {},
   "source": [
    "## 3. Ответ:\n",
    "\n",
    "## Матрица Якоби:\n",
    "\n",
    "$\n",
    "J = \n",
    "\\begin{pmatrix}\n",
    "1 & yz \\\\\n",
    "1 & xz \\\\\n",
    "1 & xy\n",
    "\\end{pmatrix}\n",
    "$  \n",
    "\n",
    "## Значение в точке $ v = (1, 2, 3)^\\top $:\n",
    "\n",
    "\\begin{pmatrix}\n",
    "1 & 6 \\\\\n",
    "1 & 3 \\\\\n",
    "1 & 2\n",
    "\\end{pmatrix}"
   ]
  },
  {
   "cell_type": "markdown",
   "id": "fcfff404-16fc-496e-8093-67fdfb07b8ab",
   "metadata": {},
   "source": [
    "## 4. (Куб евклидовой нормы). Найдите первый дифференциал $ df(x) $ и градиент $ \\nabla f(x) $ функции:\n",
    "\n",
    "## $ f(x) = \\frac{1}{3} ||x||_2^3, \\quad x \\in \\mathbb{R}^n \\setminus \\{0\\}. $"
   ]
  },
  {
   "cell_type": "markdown",
   "id": "dc56254f-124d-4bec-8de1-9eeb315df82e",
   "metadata": {},
   "source": [
    "#### Евклидова норма:  \n",
    "\n",
    "$ \\|x\\|_2 = \\sqrt{x_1^2 + x_2^2 + \\cdots + x_n^2} $  "
   ]
  },
  {
   "cell_type": "markdown",
   "id": "ffcac49b-f2d6-439b-9339-a1834f7a4a56",
   "metadata": {},
   "source": [
    "#### Разложим функцию:\n",
    "\n",
    "$ f(x) = \\frac{1}{3} ||x||_2^3 = \n",
    "\\frac{1}{3} ( \\sqrt{x_1^2 + x_2^2 + \\cdots + x_n^2} )^3 $  \n",
    "\n",
    "#### Градиент функции:  \n",
    "\n",
    "$  \\mathnormal grad(f(x)) = \\mathnormal \\nabla f(x) = (\\frac{\\partial f}{\\partial x_1}, \\frac{\\partial f}{\\partial x_2}, \\cdots,  \\frac{\\partial f}{\\partial x_n}) $\n",
    "\n",
    "#### Найдем частную производную по $ x_i $:  \n",
    "\n",
    "$\\frac{\\partial f}{\\partial x_i} = \n",
    "\\frac{1}{3} \\cdot 3 \\cdot ( \\sqrt{x_1^2 + x_2^2 + \\cdots + x_n^2} )^2 \\cdot ( \\sqrt{x_1^2 + x_2^2 + \\cdots + x_n^2} )'_{x_i} =\n",
    "( \\sqrt{x_1^2 + x_2^2 + \\cdots + x_n^2} )^2 \\cdot \\frac{1}{2} \\cdot \\frac{1}{\\sqrt{x_1^2 + x_2^2 + \\cdots + x_n^2}}\n",
    "\\cdot ( x_1^2 + x_2^2 + \\cdots + x_n^2 )'_{x_i} =\n",
    "( \\sqrt{x_1^2 + x_2^2 + \\cdots + x_n^2} )^2 \\cdot \\frac{1}{2} \\cdot \\frac{1}{\\sqrt{x_1^2 + x_2^2 + \\cdots + x_n^2}}\n",
    "\\cdot 2x_i =\n",
    "( \\sqrt{x_1^2 + x_2^2 + \\cdots + x_n^2} )^2 \\cdot \\frac{x_i}{\\sqrt{x_1^2 + x_2^2 + \\cdots + x_n^2}} =\n",
    "\\sqrt{x_1^2 + x_2^2 + \\cdots + x_n^2} \\cdot x_i = \\|x\\|_2 \\cdot x_i\n",
    "$  \n",
    "\n",
    "#### Формула дифференциала через градиент:\n",
    "\n",
    "$ df(x) = ( \\nabla f(x), dx ) \\Rightarrow  \\nabla f(x) = \\|x\\|_2 \\cdot x$  "
   ]
  },
  {
   "cell_type": "markdown",
   "id": "1261c9e3-060c-4867-96b6-53816a1bc62e",
   "metadata": {},
   "source": [
    "## 4. Ответ:\n",
    "\n",
    "## Градиент функции $ f(x) = \\frac{1}{3} ||x||_2^3 $ :\n",
    "\n",
    "$ \\nabla f(x) = \\|x\\|_2 \\cdot x$  \n",
    "\n",
    "## Первый дифференциал:  \n",
    "\n",
    "$ df(x) = \\|x\\|_2 \\cdot ( x_1dx_1 + x_2dx_2 + \\cdots + x_ndx_n ) $"
   ]
  },
  {
   "cell_type": "markdown",
   "id": "5012ef32-e9f6-439b-bf62-c02722d890f6",
   "metadata": {},
   "source": [
    "## 5. (Евклидова норма). Найдите первый дифференциал $ df(x) $ и градиент $ \\nabla f(x) $ функции:\n",
    "\n",
    "## $ f(x) = \\|x\\|_2, \\quad x \\in \\mathbb{R}^n \\setminus \\{0\\}. $"
   ]
  },
  {
   "cell_type": "markdown",
   "id": "634cdc1e-5dbf-4ae3-9e78-69f908be813c",
   "metadata": {},
   "source": [
    "#### Разложим функцию\n",
    "\n",
    "$ f(x) = \\|x\\|_2 = \\sqrt{x_1^2 + x_2^2 + \\cdots + x_n^2} $  \n",
    "\n",
    "#### Найдем частную производную по $ x_i $:  \n",
    "\n",
    "$\\frac{\\partial f}{\\partial x_i} =\n",
    "\\frac{1}{2} \\cdot \\frac{1}{\\sqrt{x_1^2 + x_2^2 + \\cdots + x_n^2}}\n",
    "\\cdot ( x_1^2 + x_2^2 + \\cdots + x_n^2 )'_{x_i} =\n",
    "\\frac{1}{2} \\cdot \\frac{1}{\\sqrt{x_1^2 + x_2^2 + \\cdots + x_n^2}} \\cdot 2x_i =\n",
    "\\frac{x_i}{\\sqrt{x_1^2 + x_2^2 + \\cdots + x_n^2}} = \n",
    "\\frac{x_i}{\\|x\\|_2}\n",
    "$\n",
    "\n",
    "#### Частная производная по остальным x будет иметь аналогичный вид, следовательно:  \n",
    "\n",
    "$  \\nabla f(x) = ( \\frac{x_1}{\\|x\\|_2}, \\frac{x_2}{\\|x\\|_2}, \\cdots, \\frac{x_n}{\\|x\\|_2} ) ^\\top =\n",
    "\\frac{x}{\\|x\\|_2}\n",
    "$  \n",
    "\n",
    "#### Найдем дифференциал:  \n",
    "\n",
    "$ df(x) = ( \\frac{x}{\\|x\\|_2} ) ^\\top \\cdot dx  = \\frac{x ^\\top \\cdot dx}{\\|x\\|_2} $  "
   ]
  },
  {
   "cell_type": "markdown",
   "id": "ae0d7aeb-9635-4f0a-ba55-bd1f94d01b3c",
   "metadata": {},
   "source": [
    "## 5. Ответ\n",
    "\n",
    "## Градиент функции $ f(x) = \\|x\\|_2 $:  \n",
    "\n",
    "## $  \\nabla f(x) = \\frac{x}{\\|x\\|_2} $ \n",
    "\n",
    "## Первый дифференциал:  \n",
    "\n",
    "## $ df(x) = \\frac{ ( x_1dx_1 + x_2dx_2 + \\cdots + x_ndx_n ) }{ \\|x\\|_2 }  $ "
   ]
  },
  {
   "cell_type": "markdown",
   "id": "579b61b8-3fcb-42fe-8eac-32945eb0a3bc",
   "metadata": {},
   "source": [
    "## 6. Найдите первый дифференциал $ df(x) $ и градиент $ \\nabla f(x) $ функции:\n",
    "\n",
    "## $ f(x) = \\|Ax\\|_2, \\quad x \\in \\mathbb{R}^n \\setminus \\{0\\}, \\quad A \\in \\mathbb{R}^{m \\times n}. $"
   ]
  },
  {
   "cell_type": "markdown",
   "id": "c40f41e6-6233-444e-86e6-c6289b2d2ae7",
   "metadata": {},
   "source": [
    "#### Формула производной сложной функции числа e:  \n",
    "\n",
    "$f'(e^{g(x)}) = e^{g(x)} \\cdot g'(x)$ \n",
    "\n",
    "#### Производная функции:  \n",
    "\n",
    "$f'(x) = -e^{-x ^\\top x} \\cdot (-x ^\\top x)'_x =\n",
    "e^{-x ^\\top x} \\cdot (x ^\\top x)'_x =\n",
    "e^{-\\|x\\|_2} \\cdot (\\|x\\|_2^2)'_x $  \n",
    "\n",
    "#### Разложим и найдем частную производную:  \n",
    "\n",
    "$e^{-\\|x\\|_2} \\cdot (x ^\\top x)'_{x_i} = e^{-\\|x\\|_2} \\cdot (( \\sqrt{x_1^2 + x_2^2 + \\cdots + x_n^2} )^2)'_{x_i} = e^{-\\|x\\|_2} \\cdot  2x_i $  \n",
    "\n",
    "#### Соответственно градиент функции:\n",
    "\n",
    "$ \\nabla {f(x)} = 2e^{-\\|x\\|_2}x $  \n",
    "\n",
    "#### Найдем дифференциал:  \n",
    "\n",
    "$ df(x) = (2e^{-\\|x\\|_2}x) ^\\top \\cdot dx = 2e^{-\\|x\\|_2} x ^ \\top dx $"
   ]
  },
  {
   "cell_type": "markdown",
   "id": "2a426a2e-3511-4bda-8770-635872f159c3",
   "metadata": {},
   "source": [
    "## 6. Ответ:\n",
    "\n",
    "## Градиент функции $ f(x) = -e^{-x^\\top x} $:  \n",
    "\n",
    "## $ \\nabla {f(x)} = 2e^{-\\|x\\|_2}x $ \n",
    "\n",
    "## Первый дифференциал:  \n",
    "\n",
    "## $ df(x) = 2e^{-\\|x\\|_2} x ^ \\top dx $"
   ]
  }
 ],
 "metadata": {
  "kernelspec": {
   "display_name": "Python 3 (ipykernel)",
   "language": "python",
   "name": "python3"
  },
  "language_info": {
   "codemirror_mode": {
    "name": "ipython",
    "version": 3
   },
   "file_extension": ".py",
   "mimetype": "text/x-python",
   "name": "python",
   "nbconvert_exporter": "python",
   "pygments_lexer": "ipython3",
   "version": "3.10.11"
  }
 },
 "nbformat": 4,
 "nbformat_minor": 5
}
